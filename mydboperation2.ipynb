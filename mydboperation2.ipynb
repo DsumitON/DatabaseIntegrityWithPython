{
 "cells": [
  {
   "cell_type": "code",
   "execution_count": 2,
   "id": "efb47b99",
   "metadata": {},
   "outputs": [
    {
     "name": "stdout",
     "output_type": "stream",
     "text": [
      "\n",
      " Database Connection established\n"
     ]
    }
   ],
   "source": [
    "# conditional selection of Data\n",
    "\n",
    "\n",
    "import mysql.connector\n",
    "\n",
    "# create connection \n",
    "conn=mysql.connector.connect(\n",
    "    host='localhost',\n",
    "    username='root',\n",
    "    password='Edureka@123',\n",
    "    port=int(3306)\n",
    ")\n",
    "\n",
    "if conn.is_connected:\n",
    "    print('\\n Database Connection established')\n"
   ]
  },
  {
   "cell_type": "code",
   "execution_count": 4,
   "id": "d6e16168",
   "metadata": {},
   "outputs": [],
   "source": [
    "# create a cursor object \n",
    "\n",
    "cursor=conn.cursor()"
   ]
  },
  {
   "cell_type": "code",
   "execution_count": null,
   "id": "84e19dcc",
   "metadata": {},
   "outputs": [
    {
     "name": "stdout",
     "output_type": "stream",
     "text": [
      "[('information_schema',), ('mydb1',), ('mysql',), ('performance_schema',), ('sys',)]\n"
     ]
    }
   ],
   "source": [
    "cursor.execute(\"SHOW DATABASES\")\n",
    "DBInstances=cursor.fetchall()\n",
    "print(DBInstances)"
   ]
  },
  {
   "cell_type": "code",
   "execution_count": 7,
   "id": "d272c529",
   "metadata": {},
   "outputs": [],
   "source": [
    "# close Connection\n",
    "conn.close()"
   ]
  },
  {
   "cell_type": "code",
   "execution_count": 8,
   "id": "4b75d171",
   "metadata": {},
   "outputs": [
    {
     "name": "stdout",
     "output_type": "stream",
     "text": [
      "\n",
      " Database Connection established\n"
     ]
    }
   ],
   "source": [
    "# conditional selection of Data\n",
    "import mysql.connector\n",
    "\n",
    "# create connection \n",
    "conn=mysql.connector.connect(\n",
    "    host='localhost',\n",
    "    username='root',\n",
    "    password='Edureka@123',\n",
    "    port=int(3306),\n",
    "    database='mydb1'\n",
    ")\n",
    "\n",
    "if conn.is_connected:\n",
    "    print('\\n Database Connection established')"
   ]
  },
  {
   "cell_type": "code",
   "execution_count": 9,
   "id": "784b9f85",
   "metadata": {},
   "outputs": [],
   "source": [
    "cursor=conn.cursor()"
   ]
  },
  {
   "cell_type": "code",
   "execution_count": 11,
   "id": "579a1112",
   "metadata": {},
   "outputs": [],
   "source": [
    "cursor.execute(\"SHOW TABLES\")\n",
    "tables=cursor.fetchall()\n",
    "for t in tables:\n",
    "    print(tables)"
   ]
  },
  {
   "cell_type": "code",
   "execution_count": 13,
   "id": "ca694ca0",
   "metadata": {},
   "outputs": [],
   "source": [
    "cursor.execute(\"CREATE TABLE student(name VARCHAR(255),age int,personID int PRIMARY KEY Auto_INCREMENT)\")"
   ]
  },
  {
   "cell_type": "code",
   "execution_count": 14,
   "id": "427b7e3f",
   "metadata": {},
   "outputs": [
    {
     "name": "stdout",
     "output_type": "stream",
     "text": [
      "[('student',)]\n"
     ]
    }
   ],
   "source": [
    "cursor.execute(\"SHOW TABLES\")\n",
    "tables=cursor.fetchall()\n",
    "for t in tables:\n",
    "    print(tables)"
   ]
  },
  {
   "cell_type": "code",
   "execution_count": 18,
   "id": "11cd43cc",
   "metadata": {},
   "outputs": [],
   "source": [
    "# add record into table student\n",
    "\n",
    "query=\"INSERT INTO student(personID,name,age) VALUES (%s,%s,%s)\"\n",
    "\n",
    "values=[(\"1234\",\"student1\",\"22\"),(\"2497\",\"student2\",\"21\"),(\"1948\",\"student3\",\"21\"),(\"1874\",\"student4\",\"24\"),(\"1324\",\"student5\",\"25\"),(\"1254\",\"student6\",\"23\")]\n",
    "\n",
    "cursor.executemany(query,values)"
   ]
  },
  {
   "cell_type": "code",
   "execution_count": 19,
   "id": "e370e6e6",
   "metadata": {},
   "outputs": [],
   "source": [
    "conn.commit()"
   ]
  },
  {
   "cell_type": "code",
   "execution_count": 21,
   "id": "07818154",
   "metadata": {},
   "outputs": [
    {
     "name": "stdout",
     "output_type": "stream",
     "text": [
      "6 data added.\n"
     ]
    }
   ],
   "source": [
    "print(f\"{cursor.rowcount} data added.\")"
   ]
  },
  {
   "cell_type": "code",
   "execution_count": 22,
   "id": "b7ccf52c",
   "metadata": {},
   "outputs": [
    {
     "name": "stdout",
     "output_type": "stream",
     "text": [
      "('student3', 21, 1948)\n",
      "('student2', 21, 2497)\n"
     ]
    }
   ],
   "source": [
    "cursor.execute(\"SELECT * FROM student WHERE age = 21\")\n",
    "records=cursor.fetchall()\n",
    "for record in records:\n",
    "    print(record)"
   ]
  },
  {
   "cell_type": "code",
   "execution_count": null,
   "id": "9996d515",
   "metadata": {},
   "outputs": [
    {
     "name": "stdout",
     "output_type": "stream",
     "text": [
      "('student3', 21, 1948)\n",
      "('student2', 21, 2497)\n",
      "('student1', 22, 1234)\n",
      "('student6', 23, 1254)\n",
      "('student4', 24, 1874)\n",
      "('student5', 25, 1324)\n"
     ]
    }
   ],
   "source": [
    "# student data sort by age DAT SORTING\n",
    "\n",
    "cursor.execute(\"SELECT * FROM student ORDER BY age\")\n",
    "records=cursor.fetchall()\n",
    "for record in records:\n",
    "    print(record)"
   ]
  },
  {
   "cell_type": "code",
   "execution_count": 25,
   "id": "64c8b001",
   "metadata": {},
   "outputs": [
    {
     "name": "stdout",
     "output_type": "stream",
     "text": [
      "('Alex', 22, 1234)\n",
      "('student6', 23, 1254)\n",
      "('student5', 25, 1324)\n",
      "('student4', 24, 1874)\n",
      "('student3', 21, 1948)\n",
      "('student2', 21, 2497)\n"
     ]
    }
   ],
   "source": [
    "# updating a table data\n",
    "\n",
    "# student1 name - ALEX\n",
    "\n",
    "\n",
    "cursor.execute(\"UPDATE student SET name='Alex' WHERE personID=1234\")\n",
    "\n",
    "#to see the chnages \n",
    "\n",
    "cursor.execute(\"SELECT * FROM student\")\n",
    "records=cursor.fetchall()\n",
    "for record in records:\n",
    "    print(record)\n"
   ]
  },
  {
   "cell_type": "code",
   "execution_count": 26,
   "id": "85a17d1e",
   "metadata": {},
   "outputs": [],
   "source": [
    "# conditional selection, update table, data soring "
   ]
  },
  {
   "cell_type": "markdown",
   "id": "96e3ad8c",
   "metadata": {},
   "source": [
    "# Thanks "
   ]
  },
  {
   "cell_type": "code",
   "execution_count": null,
   "id": "0b5cf1cd",
   "metadata": {},
   "outputs": [],
   "source": []
  },
  {
   "cell_type": "code",
   "execution_count": null,
   "id": "de47b609",
   "metadata": {},
   "outputs": [],
   "source": []
  }
 ],
 "metadata": {
  "kernelspec": {
   "display_name": "Python 3",
   "language": "python",
   "name": "python3"
  },
  "language_info": {
   "codemirror_mode": {
    "name": "ipython",
    "version": 3
   },
   "file_extension": ".py",
   "mimetype": "text/x-python",
   "name": "python",
   "nbconvert_exporter": "python",
   "pygments_lexer": "ipython3",
   "version": "3.12.10"
  }
 },
 "nbformat": 4,
 "nbformat_minor": 5
}
