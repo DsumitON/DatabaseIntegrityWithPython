{
 "cells": [
  {
   "cell_type": "code",
   "execution_count": null,
   "id": "226430fe",
   "metadata": {},
   "outputs": [
    {
     "name": "stdout",
     "output_type": "stream",
     "text": [
      "\n",
      " Connection is successful. \n",
      "\n",
      "connection is : <mysql.connector.connection.MySQLConnection object at 0x0000018FA5313A10>\n",
      "\n",
      "Database is created\n",
      "\n",
      "list of existing databases:  [('information_schema',), ('mysql',), ('performance_schema',), ('pythontraining',), ('sys',)]\n"
     ]
    }
   ],
   "source": [
    "# install mysql if not yet installed .. remove comment from below command.\n",
    "\n",
    "# ! pip install mysql-connector-python \n"
   ]
  },
  {
   "cell_type": "code",
   "execution_count": null,
   "id": "2c7da090",
   "metadata": {},
   "outputs": [],
   "source": [
    "\n",
    "# import mysql python library \n",
    " \n",
    "import mysql.connector\n",
    "\n",
    "\n",
    "# establish connection \n",
    "conn=mysql.connector.connect(\n",
    "    host='localhost',\n",
    "    user='root',\n",
    "    password='Edureka@123',\n",
    "    port=int(3306),\n",
    ") \n",
    "\n",
    "# confirm connection \n",
    "if conn.is_connected:\n",
    "    print('\\n Connection is successful. \\n')\n",
    "\n",
    "print('connection is :',conn)\n",
    "\n",
    "# database object - A MySQL cursor is an object that is used to process data returned by an SQL query, one row at a time.\n",
    "cursor=conn.cursor()\n",
    "\n",
    "# create Database instance\n",
    "instance='PythonTraining'\n",
    "cursor.execute(f\"CREATE DATABASE IF NOT EXISTS {instance}\")\n",
    "print('\\nDatabase is created\\n')\n",
    "\n",
    "# confirm if database created\n",
    "cursor.execute(\"SHOW DATABASES\")\n",
    "dbs=cursor.fetchall()\n",
    "print('list of existing databases: ',dbs)\n"
   ]
  },
  {
   "cell_type": "code",
   "execution_count": 22,
   "id": "2e178db1",
   "metadata": {},
   "outputs": [],
   "source": [
    "# Close connection if all operation done. \n",
    "conn.close()"
   ]
  },
  {
   "cell_type": "code",
   "execution_count": 27,
   "id": "bc17972b",
   "metadata": {},
   "outputs": [],
   "source": [
    "cursor.execute(\"DROP DATABASE pythontraining\")"
   ]
  },
  {
   "cell_type": "code",
   "execution_count": 28,
   "id": "b9fe419f",
   "metadata": {},
   "outputs": [
    {
     "name": "stdout",
     "output_type": "stream",
     "text": [
      "list of existing databases:  [('information_schema',), ('mysql',), ('performance_schema',), ('sys',)]\n"
     ]
    }
   ],
   "source": [
    "# confirm if database created\n",
    "cursor.execute(\"SHOW DATABASES\")\n",
    "dbs=cursor.fetchall()\n",
    "print('list of existing databases: ',dbs)"
   ]
  }
 ],
 "metadata": {
  "kernelspec": {
   "display_name": "Python 3",
   "language": "python",
   "name": "python3"
  },
  "language_info": {
   "codemirror_mode": {
    "name": "ipython",
    "version": 3
   },
   "file_extension": ".py",
   "mimetype": "text/x-python",
   "name": "python",
   "nbconvert_exporter": "python",
   "pygments_lexer": "ipython3",
   "version": "3.12.10"
  }
 },
 "nbformat": 4,
 "nbformat_minor": 5
}
