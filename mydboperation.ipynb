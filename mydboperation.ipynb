{
 "cells": [
  {
   "cell_type": "code",
   "execution_count": 1,
   "id": "14e04b41",
   "metadata": {},
   "outputs": [],
   "source": [
    "import mysql.connector\n",
    "host='localhost'\n",
    "username='root'\n",
    "password='Edureka@123'\n",
    "port=int(3306)"
   ]
  },
  {
   "cell_type": "code",
   "execution_count": 3,
   "id": "7fb44ab5",
   "metadata": {},
   "outputs": [
    {
     "name": "stdout",
     "output_type": "stream",
     "text": [
      "\n",
      "Connection is established.\n",
      "\n"
     ]
    }
   ],
   "source": [
    "# establish a db connection \n",
    "\n",
    "conn=mysql.connector.connect(\n",
    "    host=host,\n",
    "    username=username,\n",
    "    password=password,\n",
    "    port=port\n",
    ")\n",
    "\n",
    "# check connection \n",
    "if conn.is_connected:\n",
    "    print('\\nConnection is established.\\n')\n"
   ]
  },
  {
   "cell_type": "code",
   "execution_count": 6,
   "id": "dad150d5",
   "metadata": {},
   "outputs": [],
   "source": [
    "cursor=conn.cursor()"
   ]
  },
  {
   "cell_type": "code",
   "execution_count": 7,
   "id": "a86255e2",
   "metadata": {},
   "outputs": [],
   "source": [
    "# create a database\n",
    "cursor.execute(\"CREATE DATABASE IF NOT EXISTS mydb1\")\n"
   ]
  },
  {
   "cell_type": "code",
   "execution_count": 34,
   "id": "c6eb303c",
   "metadata": {},
   "outputs": [
    {
     "name": "stdout",
     "output_type": "stream",
     "text": [
      "available DBs are : \n",
      " [('information_schema',), ('mydb1',), ('mysql',), ('performance_schema',), ('sys',)]\n"
     ]
    }
   ],
   "source": [
    "\n",
    "#check database\n",
    "cursor.execute(\"SHOW DATABASES\")\n",
    "DB_instances=cursor.fetchall()\n",
    "print('available DBs are : \\n',DB_instances)"
   ]
  },
  {
   "cell_type": "code",
   "execution_count": 9,
   "id": "5148e359",
   "metadata": {},
   "outputs": [],
   "source": [
    "# close connection \n",
    "\n",
    "conn.close()\n"
   ]
  },
  {
   "cell_type": "code",
   "execution_count": 11,
   "id": "afa979be",
   "metadata": {},
   "outputs": [
    {
     "name": "stdout",
     "output_type": "stream",
     "text": [
      "\n",
      "Connection is established.\n",
      "\n"
     ]
    }
   ],
   "source": [
    "# create connection again , this time in mydb1 instance\n",
    "# establish a db connection \n",
    "\n",
    "conn=mysql.connector.connect(\n",
    "    host=host,\n",
    "    username=username,\n",
    "    password=password,\n",
    "    port=port,\n",
    "    database='mydb1'\n",
    ")\n",
    "\n",
    "# check connection \n",
    "if conn.is_connected:\n",
    "    print('\\nConnection is established.\\n')\n"
   ]
  },
  {
   "cell_type": "code",
   "execution_count": 12,
   "id": "95b5022d",
   "metadata": {},
   "outputs": [],
   "source": [
    "# create a cursor \n",
    "\n",
    "cursor=conn.cursor()"
   ]
  },
  {
   "cell_type": "code",
   "execution_count": 36,
   "id": "0a833b2a",
   "metadata": {},
   "outputs": [],
   "source": [
    "# create a table student(name,age,personID)\n",
    "\n",
    "cursor.execute(\"CREATE TABLE student (name VARCHAR(255), age INT, personID int PRIMARY KEY AUTO_INCREMENT)\")"
   ]
  },
  {
   "cell_type": "code",
   "execution_count": 37,
   "id": "060f7932",
   "metadata": {},
   "outputs": [
    {
     "name": "stdout",
     "output_type": "stream",
     "text": [
      "('student',)\n"
     ]
    }
   ],
   "source": [
    "# show Tables\n",
    "cursor.execute('SHOW TABLES')\n",
    "tables=cursor.fetchall()\n",
    "for table in tables:\n",
    "    print(table)"
   ]
  },
  {
   "cell_type": "code",
   "execution_count": 38,
   "id": "f0a0dc0d",
   "metadata": {},
   "outputs": [],
   "source": [
    "cursor.execute(\"DESC student\")"
   ]
  },
  {
   "cell_type": "code",
   "execution_count": 39,
   "id": "c7d24f9b",
   "metadata": {},
   "outputs": [
    {
     "name": "stdout",
     "output_type": "stream",
     "text": [
      "[('name', 'varchar(255)', 'YES', '', None, ''), ('age', 'int', 'YES', '', None, ''), ('personID', 'int', 'NO', 'PRI', None, 'auto_increment')]\n"
     ]
    }
   ],
   "source": [
    "print(cursor.fetchall())"
   ]
  },
  {
   "cell_type": "code",
   "execution_count": 40,
   "id": "c8058b21",
   "metadata": {},
   "outputs": [
    {
     "name": "stdout",
     "output_type": "stream",
     "text": [
      "data inserted\n"
     ]
    }
   ],
   "source": [
    "# insert data to student table\n",
    "\n",
    "query=\"INSERT INTO student(name,age) VALUES (%s,%s)\"\n",
    "values=(\"student1\",\"21\")\n",
    "\n",
    "cursor.execute(query,values)\n",
    "\n",
    "# commit the change\n",
    "conn.commit()\n",
    "\n",
    "print('data inserted')"
   ]
  },
  {
   "cell_type": "code",
   "execution_count": 41,
   "id": "eb59f962",
   "metadata": {},
   "outputs": [
    {
     "name": "stdout",
     "output_type": "stream",
     "text": [
      "10 data inserted\n"
     ]
    }
   ],
   "source": [
    "# insert multiple records into table \n",
    "\n",
    "query=\"INSERT INTO student(name,age) VALUES (%s,%s)\"\n",
    "values=[(\"student1\",\"21\"),(\"student2\",\"22\"),(\"student3\",\"23\"),(\"student4\",\"21\"),(\"student5\",\"20\"),(\"student6\",\"21\"),(\"student7\",\"24\"),(\"student8\",\"23\"),(\"student9\",\"22\"),(\"student10\",\"20\")]\n",
    "\n",
    "cursor.executemany(query,values)\n",
    "\n",
    "# commit the change\n",
    "conn.commit()\n",
    "\n",
    "print(f'{cursor.rowcount} data inserted')"
   ]
  },
  {
   "cell_type": "code",
   "execution_count": 42,
   "id": "9829520f",
   "metadata": {},
   "outputs": [
    {
     "name": "stdout",
     "output_type": "stream",
     "text": [
      "('student1', 21, 1)\n",
      "('student1', 21, 2)\n",
      "('student2', 22, 3)\n",
      "('student3', 23, 4)\n",
      "('student4', 21, 5)\n",
      "('student5', 20, 6)\n",
      "('student6', 21, 7)\n",
      "('student7', 24, 8)\n",
      "('student8', 23, 9)\n",
      "('student9', 22, 10)\n",
      "('student10', 20, 11)\n"
     ]
    }
   ],
   "source": [
    "# check the tables data\n",
    "\n",
    "cursor.execute(\"SELECT * FROM student\")\n",
    "data=cursor.fetchall()\n",
    "for record in data:\n",
    "    print(record)"
   ]
  },
  {
   "cell_type": "code",
   "execution_count": 43,
   "id": "1e63926e",
   "metadata": {},
   "outputs": [],
   "source": [
    "# to remove a record-- DELETE\n",
    "cursor.execute(\"DELETE FROM student WHERE personID=1\")"
   ]
  },
  {
   "cell_type": "code",
   "execution_count": 51,
   "id": "0953c87e",
   "metadata": {},
   "outputs": [],
   "source": [
    "# check the tables data\n",
    "\n",
    "cursor.execute(\"SELECT * FROM student\")\n",
    "data=cursor.fetchall()\n",
    "for record in data:\n",
    "    print(record)"
   ]
  },
  {
   "cell_type": "code",
   "execution_count": 49,
   "id": "62398406",
   "metadata": {},
   "outputs": [],
   "source": [
    "# to remove multiple record in series-- DELETE\n",
    "for i in range(2,12):\n",
    "    cursor.execute(f\"DELETE FROM student WHERE personID={i}\")"
   ]
  },
  {
   "cell_type": "code",
   "execution_count": 52,
   "id": "aae90c3a",
   "metadata": {},
   "outputs": [],
   "source": [
    "# delete Student Table \n",
    "\n",
    "\n",
    "cursor.execute(\"DROP TABLE student\")"
   ]
  },
  {
   "cell_type": "code",
   "execution_count": 53,
   "id": "68c1dc09",
   "metadata": {},
   "outputs": [],
   "source": [
    "# show Tables\n",
    "cursor.execute('SHOW TABLES')\n",
    "tables=cursor.fetchall()\n",
    "for table in tables:\n",
    "    print(table)"
   ]
  },
  {
   "cell_type": "markdown",
   "id": "8932782b",
   "metadata": {},
   "source": [
    "## Thanks!!!"
   ]
  },
  {
   "cell_type": "markdown",
   "id": "6f588a9c",
   "metadata": {},
   "source": []
  }
 ],
 "metadata": {
  "kernelspec": {
   "display_name": "Python 3",
   "language": "python",
   "name": "python3"
  },
  "language_info": {
   "codemirror_mode": {
    "name": "ipython",
    "version": 3
   },
   "file_extension": ".py",
   "mimetype": "text/x-python",
   "name": "python",
   "nbconvert_exporter": "python",
   "pygments_lexer": "ipython3",
   "version": "3.12.10"
  }
 },
 "nbformat": 4,
 "nbformat_minor": 5
}
